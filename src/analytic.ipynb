{
 "cells": [
  {
   "cell_type": "code",
   "execution_count": 1,
   "metadata": {
    "collapsed": true
   },
   "outputs": [],
   "source": [
    "#encoding=utf-8\n",
    "import sys\n",
    "sys.path.append('/home/machao/anaconda2/lib/python2.7/site-packages')\n",
    "\n",
    "import MySQLdb\n",
    "import pandas as pd\n",
    "import numpy as np\n",
    "from collections import Counter\n",
    "reload(sys)  \n",
    "sys.setdefaultencoding('utf8')  "
   ]
  },
  {
   "cell_type": "code",
   "execution_count": 49,
   "metadata": {
    "collapsed": false
   },
   "outputs": [],
   "source": [
    "station_week = pd.read_csv('station_week_matrix')\n",
    "\n",
    "station_weekend = pd.read_csv('station_weekend_matrix')\n",
    "\n",
    "station_may_home = pd.read_csv('station_may_home_matrix')\n",
    "\n",
    "station = pd.read_csv('../station_env.csv')"
   ]
  },
  {
   "cell_type": "code",
   "execution_count": 31,
   "metadata": {
    "collapsed": false
   },
   "outputs": [],
   "source": [
    "# station['name'] == station_week_matrix.columns[1:] #True"
   ]
  },
  {
   "cell_type": "code",
   "execution_count": 32,
   "metadata": {
    "collapsed": true
   },
   "outputs": [],
   "source": [
    "user_ids = station_week['Unnamed: 0']"
   ]
  },
  {
   "cell_type": "code",
   "execution_count": 58,
   "metadata": {
    "collapsed": false
   },
   "outputs": [],
   "source": [
    "station_week_matrix = station_week.drop('Unnamed: 0', axis = 1).values\n",
    "station_weekend_matrix = station_weekend.drop('Unnamed: 0', axis = 1).values\n",
    "station_may_home_matrix = station_may_home.drop('Unnamed: 0', axis = 1).values\n",
    "station_env = station.drop(['Unnamed: 0', 'name'], axis = 1).values"
   ]
  },
  {
   "cell_type": "code",
   "execution_count": 65,
   "metadata": {
    "collapsed": false
   },
   "outputs": [],
   "source": [
    "station_week_interest = pd.DataFrame(np.dot(station_week_matrix, station_env))\n",
    "station_weekend_interest = pd.DataFrame(np.dot(station_weekend_matrix, station_env))"
   ]
  },
  {
   "cell_type": "code",
   "execution_count": 68,
   "metadata": {
    "collapsed": false
   },
   "outputs": [
    {
     "data": {
      "text/html": [
       "<div>\n",
       "<table border=\"1\" class=\"dataframe\">\n",
       "  <thead>\n",
       "    <tr style=\"text-align: right;\">\n",
       "      <th></th>\n",
       "      <th>0</th>\n",
       "      <th>1</th>\n",
       "      <th>2</th>\n",
       "      <th>3</th>\n",
       "    </tr>\n",
       "  </thead>\n",
       "  <tbody>\n",
       "    <tr>\n",
       "      <th>count</th>\n",
       "      <td>445.000000</td>\n",
       "      <td>445.000000</td>\n",
       "      <td>445.000000</td>\n",
       "      <td>445.000000</td>\n",
       "    </tr>\n",
       "    <tr>\n",
       "      <th>mean</th>\n",
       "      <td>9.713553</td>\n",
       "      <td>57.787820</td>\n",
       "      <td>5.549450</td>\n",
       "      <td>37.683046</td>\n",
       "    </tr>\n",
       "    <tr>\n",
       "      <th>std</th>\n",
       "      <td>5.506503</td>\n",
       "      <td>27.862772</td>\n",
       "      <td>3.666400</td>\n",
       "      <td>14.728224</td>\n",
       "    </tr>\n",
       "    <tr>\n",
       "      <th>min</th>\n",
       "      <td>0.307255</td>\n",
       "      <td>9.159611</td>\n",
       "      <td>1.074527</td>\n",
       "      <td>8.411866</td>\n",
       "    </tr>\n",
       "    <tr>\n",
       "      <th>25%</th>\n",
       "      <td>5.617534</td>\n",
       "      <td>39.490384</td>\n",
       "      <td>3.043467</td>\n",
       "      <td>27.992622</td>\n",
       "    </tr>\n",
       "    <tr>\n",
       "      <th>50%</th>\n",
       "      <td>8.131231</td>\n",
       "      <td>52.022642</td>\n",
       "      <td>4.408647</td>\n",
       "      <td>34.491877</td>\n",
       "    </tr>\n",
       "    <tr>\n",
       "      <th>75%</th>\n",
       "      <td>13.547369</td>\n",
       "      <td>66.172175</td>\n",
       "      <td>7.133810</td>\n",
       "      <td>46.788137</td>\n",
       "    </tr>\n",
       "    <tr>\n",
       "      <th>max</th>\n",
       "      <td>25.750908</td>\n",
       "      <td>179.909375</td>\n",
       "      <td>26.025142</td>\n",
       "      <td>76.430799</td>\n",
       "    </tr>\n",
       "  </tbody>\n",
       "</table>\n",
       "</div>"
      ],
      "text/plain": [
       "                0           1           2           3\n",
       "count  445.000000  445.000000  445.000000  445.000000\n",
       "mean     9.713553   57.787820    5.549450   37.683046\n",
       "std      5.506503   27.862772    3.666400   14.728224\n",
       "min      0.307255    9.159611    1.074527    8.411866\n",
       "25%      5.617534   39.490384    3.043467   27.992622\n",
       "50%      8.131231   52.022642    4.408647   34.491877\n",
       "75%     13.547369   66.172175    7.133810   46.788137\n",
       "max     25.750908  179.909375   26.025142   76.430799"
      ]
     },
     "execution_count": 68,
     "metadata": {},
     "output_type": "execute_result"
    }
   ],
   "source": [
    "station_week_interest.describe()"
   ]
  },
  {
   "cell_type": "code",
   "execution_count": null,
   "metadata": {
    "collapsed": true
   },
   "outputs": [],
   "source": []
  }
 ],
 "metadata": {
  "kernelspec": {
   "display_name": "Python 2",
   "language": "python",
   "name": "python2"
  },
  "language_info": {
   "codemirror_mode": {
    "name": "ipython",
    "version": 2
   },
   "file_extension": ".py",
   "mimetype": "text/x-python",
   "name": "python",
   "nbconvert_exporter": "python",
   "pygments_lexer": "ipython2",
   "version": "2.7.12"
  }
 },
 "nbformat": 4,
 "nbformat_minor": 2
}
